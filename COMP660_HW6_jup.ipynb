{
 "cells": [
  {
   "cell_type": "code",
   "execution_count": 7,
   "metadata": {},
   "outputs": [
    {
     "name": "stdout",
     "output_type": "stream",
     "text": [
      "The inet address is 127.0.0.1\n"
     ]
    }
   ],
   "source": [
    "#Question 2\n",
    "str = 'inet addr:127.0.0.1  Mask:255.0.0.0'\n",
    "colon_pos = str.find(':')\n",
    "sp1_pos = str.find(' ',colon_pos)\n",
    "inet = str[colon_pos+1:sp1_pos].rstrip()\n",
    "print(f'The inet address is {inet}')"
   ]
  },
  {
   "cell_type": "code",
   "execution_count": 8,
   "metadata": {},
   "outputs": [
    {
     "name": "stdout",
     "output_type": "stream",
     "text": [
      "4\n"
     ]
    }
   ],
   "source": [
    "#Question 3a\n",
    "#Using a for loop \n",
    "#through a string, count the number of internet addresses in the string below by using the split method.\n",
    "\n",
    "def count_letters(x):\n",
    "    count=0\n",
    "    for char in x:\n",
    "        if char[:4] == 'inet':\n",
    "            count+=1\n",
    "            #print(char[10:]) #This will print the inet addr if you want.\n",
    "            #return(count) return here is still in the if and you wont get a complete count.\n",
    "    return(count) #Make sure this is inline with for.\n",
    "\n",
    "str = \\\n",
    "'''\n",
    "inet addr :127.0.0.1 Mask:255.0.0.0\n",
    "inet addr :127.0.0.2 Mask:255.0.0.0\n",
    "inet addr :127.0.0.3 Mask:255.0.0.0\n",
    "inet addr :127.0.0.4 Mask:255.0.0.0\n",
    "'''\n",
    "\n",
    "to_list = str.replace(\"inet addr :\", \"inet_addr:\")\n",
    "\n",
    "to_list = to_list.split() \n",
    "\n",
    "print( count_letters(to_list))"
   ]
  },
  {
   "cell_type": "code",
   "execution_count": null,
   "metadata": {},
   "outputs": [],
   "source": [
    "#Question 4\n",
    "#Write a Python function to create the HTML string with tags around the word(s).\n",
    "def add_html_tags(tag, text):\n",
    "    return \"<%s>%s</%s>\" % (tag, text, tag)\n",
    "\n",
    "# %s is a placeholder for a string\n",
    "# %d is a placeholder for a number\n",
    "#numFiles = 3\n",
    "#print( \"Found %d files\" % (numFiles, ))\n",
    "\n",
    "print(add_html_tags('h1', 'My First Page'))"
   ]
  },
  {
   "cell_type": "code",
   "execution_count": 9,
   "metadata": {},
   "outputs": [
    {
     "name": "stdout",
     "output_type": "stream",
     "text": [
      "First name: Taryn\n",
      "Last name: popplewell\n",
      "Hi Taryn Popplewell, welcome to my python greet application.\n"
     ]
    }
   ],
   "source": [
    "\n",
    "#Question 5\n",
    "#Write a Python script that takes input from the user and displays\n",
    "#that input back in upper and lower cases.\n",
    "\n",
    "fname_input = input(\"First name: \")\n",
    "lname_input = input(\"Last name: \")\n",
    "\n",
    "def case_test(arg1,arg2):\n",
    "    argfn = arg1.title()\n",
    "    argln = arg2.title()\n",
    "    return(f\"Hi {argfn} {argln}, welcome to my python greet application.\")\n",
    "\n",
    "print(case_test(fname_input,lname_input))\n"
   ]
  },
  {
   "cell_type": "code",
   "execution_count": 56,
   "metadata": {},
   "outputs": [
    {
     "name": "stdout",
     "output_type": "stream",
     "text": [
      "Enter your full name: margarita aaron ville\n",
      "Margarita A. Ville\n"
     ]
    }
   ],
   "source": [
    "'''\n",
    "Question 6\n",
    "Write a program that takes your full name as input and displays the abbreviations \n",
    "of the middle name except the first and last name which is displayed as it is. \n",
    "For example, if your name is Elvis Aaron Presley, then the output should be \n",
    "Elvis A. Presley.\n",
    "'''\n",
    "data = input(\"Enter your full name: \")\n",
    "sp1_pos = data.find(' ')\n",
    "first_name = data[:sp1_pos]\n",
    "sp2_pos = data.find(' ',sp1_pos)\n",
    "sp3_pos = data.find(' ',sp2_pos+1)\n",
    "middle_name = data[sp2_pos+1:sp3_pos]\n",
    "last_name = data[sp3_pos+1:]\n",
    "print(f\"{first_name.title()} {middle_name[:1].title()}. {last_name.title()}\")\n"
   ]
  }
 ],
 "metadata": {
  "kernelspec": {
   "display_name": "Python 3",
   "language": "python",
   "name": "python3"
  },
  "language_info": {
   "codemirror_mode": {
    "name": "ipython",
    "version": 3
   },
   "file_extension": ".py",
   "mimetype": "text/x-python",
   "name": "python",
   "nbconvert_exporter": "python",
   "pygments_lexer": "ipython3",
   "version": "3.8.5"
  }
 },
 "nbformat": 4,
 "nbformat_minor": 4
}
